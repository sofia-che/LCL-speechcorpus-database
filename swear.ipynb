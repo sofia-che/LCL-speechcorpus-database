{
  "nbformat": 4,
  "nbformat_minor": 0,
  "metadata": {
    "colab": {
      "provenance": [],
      "gpuType": "T4"
    },
    "kernelspec": {
      "name": "python3",
      "display_name": "Python 3"
    },
    "language_info": {
      "name": "python"
    },
    "accelerator": "GPU"
  },
  "cells": [
    {
      "cell_type": "code",
      "source": [
        "#Подключение к гугл диску\n",
        "from google.colab import drive\n",
        "drive.mount('/content/drive')"
      ],
      "metadata": {
        "colab": {
          "base_uri": "https://localhost:8080/"
        },
        "id": "sK-JAFHQFAnj",
        "outputId": "c25411d6-513c-43a4-8fb2-903dfc0bb980"
      },
      "execution_count": null,
      "outputs": [
        {
          "output_type": "stream",
          "name": "stdout",
          "text": [
            "Drive already mounted at /content/drive; to attempt to forcibly remount, call drive.mount(\"/content/drive\", force_remount=True).\n"
          ]
        }
      ]
    },
    {
      "cell_type": "code",
      "source": [
        "#загрузка библиотек\n",
        "import pandas as pd # для работы с таблицами\n",
        "import numpy as np\n",
        "import string # для работы со строками\n",
        "from string import punctuation\n",
        "\n",
        "!pip install razdel\n",
        "from razdel import tokenize\n",
        "\n",
        "!pip install pymystem3\n",
        "from pymystem3 import Mystem\n",
        "\n",
        "import os"
      ],
      "metadata": {
        "colab": {
          "base_uri": "https://localhost:8080/"
        },
        "id": "9F6gDd4bFdp-",
        "outputId": "3dc45302-6690-4a35-a4bf-b1daf2f4537f"
      },
      "execution_count": null,
      "outputs": [
        {
          "output_type": "stream",
          "name": "stdout",
          "text": [
            "Requirement already satisfied: razdel in /usr/local/lib/python3.10/dist-packages (0.5.0)\n",
            "Requirement already satisfied: pymystem3 in /usr/local/lib/python3.10/dist-packages (0.2.0)\n",
            "Requirement already satisfied: requests in /usr/local/lib/python3.10/dist-packages (from pymystem3) (2.32.3)\n",
            "Requirement already satisfied: charset-normalizer<4,>=2 in /usr/local/lib/python3.10/dist-packages (from requests->pymystem3) (3.3.2)\n",
            "Requirement already satisfied: idna<4,>=2.5 in /usr/local/lib/python3.10/dist-packages (from requests->pymystem3) (3.8)\n",
            "Requirement already satisfied: urllib3<3,>=1.21.1 in /usr/local/lib/python3.10/dist-packages (from requests->pymystem3) (2.0.7)\n",
            "Requirement already satisfied: certifi>=2017.4.17 in /usr/local/lib/python3.10/dist-packages (from requests->pymystem3) (2024.8.30)\n"
          ]
        }
      ]
    },
    {
      "cell_type": "code",
      "source": [
        "#удаление пунктуации\n",
        "\n",
        "string.punctuation = string.punctuation + '…―@'\n",
        "def remove_punctuation(text):\n",
        "    return \"\".join([ch if ch not in string.punctuation else ' ' for ch in text])\n",
        "\n",
        "#токенизация\n",
        "def text_to_tokens(text):\n",
        "    tokens = list(tokenize(text))\n",
        "    tokens_strings = [s.text for s in tokens]\n",
        "    tokens_string = ''\n",
        "    for token in tokens_strings:\n",
        "        tokens_string += f'{token} '\n",
        "    return tokens_string\n",
        "\n",
        "mystem = Mystem()\n",
        "\n",
        "#лемматизация\n",
        "def lemma(text):\n",
        "   tokens = mystem.lemmatize(text.lower())\n",
        "   tokens = [token for token in tokens if token != ' ' and token != '  ']\n",
        "   return tokens\n",
        "\n"
      ],
      "metadata": {
        "id": "FPJeVS_sFltn",
        "colab": {
          "base_uri": "https://localhost:8080/"
        },
        "outputId": "65eabf05-5653-40c5-9281-ea31c4c487fe"
      },
      "execution_count": null,
      "outputs": [
        {
          "output_type": "stream",
          "name": "stderr",
          "text": [
            "Installing mystem to /root/.local/bin/mystem from http://download.cdn.yandex.net/mystem/mystem-3.1-linux-64bit.tar.gz\n"
          ]
        }
      ]
    },
    {
      "cell_type": "code",
      "execution_count": null,
      "metadata": {
        "id": "3cM8A9-9Ez6d"
      },
      "outputs": [],
      "source": [
        "all_tables = pd.DataFrame()\n",
        "\n",
        "\n",
        "# Определяем путь к папке с таблицами\n",
        "folder_path = '/content/drive/MyDrive/swear_words_project/data'\n",
        "\n",
        "file_list = os.listdir(folder_path)\n",
        "\n",
        "for file in file_list:\n",
        "    file_path = os.path.join(folder_path, file)\n",
        "    data = pd.read_excel(file_path, engine='openpyxl')\n",
        "    all_tables = pd.concat([all_tables, data], ignore_index=True)\n"
      ]
    },
    {
      "cell_type": "code",
      "source": [
        "len(all_tables)"
      ],
      "metadata": {
        "colab": {
          "base_uri": "https://localhost:8080/"
        },
        "id": "Vbl3Cj9UHyM8",
        "outputId": "8a399434-b09e-4a03-b9bc-d9a5c46e9773"
      },
      "execution_count": null,
      "outputs": [
        {
          "output_type": "execute_result",
          "data": {
            "text/plain": [
              "23342"
            ]
          },
          "metadata": {},
          "execution_count": 16
        }
      ]
    },
    {
      "cell_type": "code",
      "source": [
        "cols_for_del = ['Speaker_2', 'Comments','Com_type', 'Who is it', 'speaker_0', 'Unnamed: 7', 'Unnamed: 8', 'ОБЩИЙ КОММЕНТАРИЙ: неразбериха со спикерами']"
      ],
      "metadata": {
        "id": "ylPzzrFfMeuC"
      },
      "execution_count": null,
      "outputs": []
    },
    {
      "cell_type": "code",
      "source": [
        "for col in cols_for_del:\n",
        "  del all_tables[col],"
      ],
      "metadata": {
        "id": "uPk5vC1dL7Bu"
      },
      "execution_count": null,
      "outputs": []
    },
    {
      "cell_type": "code",
      "source": [
        "all_tables\n",
        "len(all_tables)"
      ],
      "metadata": {
        "colab": {
          "base_uri": "https://localhost:8080/"
        },
        "id": "UptFpNXHL0_-",
        "outputId": "48b7e0e3-1573-4775-cb0e-9d844fca744b"
      },
      "execution_count": null,
      "outputs": [
        {
          "output_type": "execute_result",
          "data": {
            "text/plain": [
              "23342"
            ]
          },
          "metadata": {},
          "execution_count": 8
        }
      ]
    },
    {
      "cell_type": "code",
      "source": [
        "#all_tables.to_excel('/content/drive/MyDrive/swear_words_project/all_tables.xlsx')"
      ],
      "metadata": {
        "id": "QfP2lycsH8XC"
      },
      "execution_count": null,
      "outputs": []
    },
    {
      "cell_type": "code",
      "source": [
        "#pre_all_tables = all_tables\n",
        "#prep_texts = []\n",
        "#pre_all_tables['Preprocessed_text'] = list(map(preproccessing, pre_all_tables['Text']))\n",
        "#for text in all_tables['Text']:\n",
        "  #text_str = str(text).strip()\n",
        "  #prep_texts.append(lemma(text_to_tokens(remove_punctuation(text_str))))"
      ],
      "metadata": {
        "collapsed": true,
        "id": "FP78CyFGHtb8"
      },
      "execution_count": null,
      "outputs": []
    },
    {
      "cell_type": "code",
      "source": [
        "#pre_all_tables['Preprocessed_text'] = prep_texts\n",
        "#pre_all_tables.to_excel('/content/drive/MyDrive/swear_words_project/pre_all_tables.xlsx')"
      ],
      "metadata": {
        "colab": {
          "base_uri": "https://localhost:8080/"
        },
        "id": "SCmBkBLIOxPM",
        "outputId": "953ecdc3-76a0-45d0-f0fd-2a78caec1da1"
      },
      "execution_count": null,
      "outputs": [
        {
          "output_type": "stream",
          "name": "stdout",
          "text": [
            "310841\n"
          ]
        }
      ]
    },
    {
      "cell_type": "code",
      "source": [
        "pre_all_tables = pd.read_excel('/content/drive/MyDrive/swear_words_project/pre_all_tables.xlsx')\n",
        "all_tokens = 0\n",
        "for sent in list(pre_all_tables['Preprocessed_text']):\n",
        "    for i in str(sent).split():\n",
        "      all_tokens += 1\n",
        "print(all_tokens)"
      ],
      "metadata": {
        "colab": {
          "base_uri": "https://localhost:8080/"
        },
        "id": "X29RA6jBTGdO",
        "outputId": "0e22ce77-c456-493f-a28a-06ed2e16b9ee"
      },
      "execution_count": null,
      "outputs": [
        {
          "output_type": "stream",
          "name": "stdout",
          "text": [
            "286622\n"
          ]
        }
      ]
    },
    {
      "cell_type": "code",
      "source": [
        "# список слов, которые мы ищем\n",
        "words_to_find = []\n",
        "with open('/content/drive/MyDrive/swear_words_project/new_dic.txt', encoding='utf8') as f:\n",
        "  for line in f:\n",
        "    words_to_find.append(line.strip())\n",
        "\n",
        "# создаем новый датафрейм для результатов\n",
        "result_df = pd.DataFrame(columns=['Preprocessed_text', 'Swear_word', 'File_name', 'Time', 'Speaker', 'Text'])\n",
        "\n",
        "# проходимся по строкам датафрейма\n",
        "for index, row in pre_all_tables.iterrows():\n",
        "    result_df.loc[len(result_df)] = [row['Preprocessed_text'], '', row['File_name'], row['Time'], row['Speaker'], row['Text']]\n",
        "    # ищем слова из списка в строке\n",
        "    for word in words_to_find:\n",
        "        if word in str(row['Preprocessed_text']).split():\n",
        "            result_df.loc[len(result_df)] = [row['Preprocessed_text'], word, row['File_name'], row['Time'], row['Speaker'], row['Text']]\n"
      ],
      "metadata": {
        "id": "wz0Zduv4Tn-8"
      },
      "execution_count": null,
      "outputs": []
    },
    {
      "cell_type": "code",
      "source": [
        "#result_df.to_excel('/content/drive/MyDrive/swear_words_project/draft_tri.xlsx')"
      ],
      "metadata": {
        "id": "JIdWG7VJZX8-"
      },
      "execution_count": null,
      "outputs": []
    },
    {
      "cell_type": "code",
      "source": [],
      "metadata": {
        "id": "5FplDWh80Snk"
      },
      "execution_count": null,
      "outputs": []
    },
    {
      "cell_type": "code",
      "source": [
        "import matplotlib.pyplot as plt\n",
        "from wordcloud import WordCloud\n",
        "word_freq = {\"блядь\":234,\"блять\":110,\"бля\":39,\"хуйня\":34,\"пиздец\":28,\"ебать\":21,\"хуй\":20,\"пизда\":14,\"похуй\":11,\"ебаный\":9,\"заебись\":6,\"охуевать\":6,\"охуенный\":5,\"долбоеб\":4,\"охуенно\":4,\"спиздить\":4,\"хуево\":4,\"ебашить\":3,\"ебнуть\":3,\"заебаться\":3,\"наебывать\":3,\"пиздеть\":3,\"хуевый\":3,\"выебывать\":2,\"выебываться\":2,\"ебануться\":2,\"ебаться\":2,\"ебнуться\":2,\"заебывать\":2,\"проеб\":2,\"проебывать\":2,\"хуйнуть\":2,\"хулить\":2,\"доебывать\":1,\"ебальник\":1,\"заеба\":1,\"нехуй\":1,\"отъебаться\":1,\"охуительный\":1,\"пиздатый\":1,\"пиздеж\":1,\"пиздить\":1,\"пиздувать\":1,\"поебывать\":1,\"хули\":1,\"хуяк\":1}\n",
        "wordcloud = WordCloud(width=400, height=300, random_state=21, max_font_size=100, colormap='viridis', background_color='white', scale=50).generate_from_frequencies(word_freq)\n",
        "plt.figure(figsize=(10, 5))\n",
        "plt.imshow(wordcloud, interpolation=\"bilinear\")\n",
        "plt.axis(\"off\")\n",
        "plt.show()"
      ],
      "metadata": {
        "colab": {
          "base_uri": "https://localhost:8080/",
          "height": 422
        },
        "id": "ZkLeLGqH0R4O",
        "outputId": "b0e2fe37-017d-4dc3-f97f-5c1d3dca2e61",
        "collapsed": true
      },
      "execution_count": null,
      "outputs": [
        {
          "output_type": "display_data",
          "data": {
            "text/plain": [
              "<Figure size 1000x500 with 1 Axes>"
            ],
            "image/png": "[encoded data removed]"
          },
          "metadata": {}
        }
      ]
    },
    {
      "cell_type": "markdown",
      "source": [
        "# Коммуникативные ситуации"
      ],
      "metadata": {
        "id": "tFgKmfx0HulP"
      }
    },
    {
      "cell_type": "markdown",
      "source": [
        "Создание выборок"
      ],
      "metadata": {
        "id": "Oq0W-oY4v7-w"
      }
    },
    {
      "cell_type": "code",
      "source": [
        "all_data = pd.read_excel('/content/drive/MyDrive/swear_words_project/pre_all_tables.xlsx')\n",
        "\n",
        "the_first = pd.DataFrame(columns=all_data.columns)\n",
        "the_second = pd.DataFrame(columns=all_data.columns)\n",
        "the_third = pd.DataFrame(columns=all_data.columns)\n",
        "\n",
        "\n",
        "episodes_the_first = [\"escAF019-02\",\"escAF019-03\",\"escAF019-04\",\"escAF019-05\",\"escAF019-06\",\"escAF019-07\",\"escAF019-08\",\"escAF019-09\",\"escAF019-10\",\"escAF019-11\",\"escAF019-14\",\"escAF019-15\",\"escAF019-16\",\"escAF019-17\",\"escAF019-19\",\"escAF019-20\",\"escAF019-21\",\"escAF019-22\",\"escAF020-35\",\"escAF022-01\",\"escAF022-02\",\"escAF022-04\",\"escAF022-05\",\"escAF024-25\",\"escAF002-02\",\"escAF011-01\",\"escAF011-02\",\"escAF011-03\",\"escAF011-04\",\"escAF011-05\",\"escAF011-06\",\"escAF011-07\",\"escAF011-10\",\"escAF011-13\",\"escAF011-14\",\"escAF011-15\",\"escAF011-16\",\"escAF011-17\",\"escAF011-10\",\"escAF011-14\",\"escAF008-03\",\"escAF008-04\",\"escAF008-05\",\"escAF008-07\",\"escAF008-08\",\"escAF008-12\",\"escAF008-14\",\"escAF013-01\",\"escAF013-09\",\"escAF014-03\",\"escAF014-07\"]\n",
        "episodes_the_second = [\"escAF001-04\",\"escAF019-01\",\"escAF020-02\",\"escAF020-03\",\"escAF020-09\",\"escAF020-10\",\"escAF020-12\",\"escAF020-13\",\"escAF020-15\",\"escAF020-16\",\"escAF020-31\",\"escAF020-32\",\"escAF020-33\",\"escAF024-01\",\"escAF024-02\",\"escAF024-03\",\"escAF024-05\",\"escAF024-06\",\"escAF024-08\",\"escAF024-09\",\"escAF024-10\",\"escAF024-12\",\"escAF024-13\",\"escAF024-14\",\"escAF024-15\",\"escAF024-16\",\"escAF024-18\",\"escAF024-19\",\"escAF024-20\",\"escAF024-21\",\"escAF024-22\",\"escAF024-23\",\"escAF024-24\",\"escAF025-05\",\"escAF025-09\",\"escAF025-10\",\"escAF025-13\",\"escAF004-02\",\"escAF004-03\",\"escAF011-09\",\"escAF012-04\",\"escAF012-06\",\"escAF012-13\",\"escAF012-15\",\"escAF007-02\",\"escAF007-05\",\"escAF007-09\",\"escAF007-12\",\"escAF007-13\",\"escAF007-14\",\"escAF007-15\",\"escAF009-05\",\"escAF009-06\",\"escAF009-07\",\"escAF009-08\",\"escAF009-09\",\"escAF009-10\",\"escAF009-11\",\"escAF009-12\",\"escAF009-13\",\"escAF009-14\",\"escAF009-15\",\"escAF009-16\",\"escAF009-20\",\"escAF014-24\",\"escAF017-50\",\"escAF017-53\",\"escAF021-03\",\"escAF021-04\",\"escAF023-20\",\"escAF023-21\"]\n",
        "episodes_the_third = [\"escAF001-01\",\"escAF001-02\",\"escAF001-03\",\"escAF001-08\",\"escAF001-09\",\"escAF001-11\",\"escAF001-12\",\"escAF001-13\",\"escAF001-14\",\"escAF001-15\",\"escAF001-16\",\"escAF019-13\",\"escAF019-14\",\"escAF020-01\",\"escAF020-04\",\"escAF020-05\",\"escAF020-06\",\"escAF020-07\",\"escAF020-08\",\"escAF020-17\",\"escAF020-18\",\"escAF020-19\",\"escAF020-25\",\"escAF020-36\",\"escAF020-38\",\"escAF022-07\",\"escAF022-08\",\"escAF022-09\",\"escAF022-10\",\"escAF022-11\",\"escAF022-12\",\"escAF022-13\",\"escAF024-04\",\"escAF025-01\",\"escAF025-04\",\"escAM001-12\",\"escAM001-14\",\"escAF002-01\",\"escAF002-03\",\"escAF002-04\",\"escAF002-05\",\"escAF002-06\",\"escAF002-07\",\"escAF002-09\",\"escAF002-10\",\"escAF002-11\",\"escAF002-12\",\"escAF002-13\",\"escAF002-14\",\"escAF002-15\",\"escAF002-16\",\"escAF002-19\",\"escAF002-21\",\"escAF003-20\",\"escAF011-20\",\"escAF011-21\",\"escAF011-22\",\"escAF011-25\",\"escAF011-26\",\"escAF012-03\",\"escAF012-05\",\"escAF012-07\",\"escAF012-10\",\"escAF007-01\",\"escAF007-11\",\"escAF008-01\",\"escAF008-02\",\"escAF008-10\",\"escAF009-02\",\"escAF009-03\",\"escAF009-04\",\"escAF009-22\",\"escAF017-01\",\"escAF017-05\",\"escAF017-11\",\"escAF017-41\",\"escAF021-05\",\"escAF021-06\",\"escAF021-10\",\"escAF021-11\",\"escAF023-02\",\"escAF023-07\",\"escAF023-09\",\"escAF023-19\",\"escAF023-22\",\"escAF023-23\"]\n",
        "\n"
      ],
      "metadata": {
        "id": "4byipaVsH1pj"
      },
      "execution_count": null,
      "outputs": []
    },
    {
      "cell_type": "code",
      "source": [
        "for index, row in all_data.iterrows():\n",
        "    if row['Episode'] in episodes_the_first:\n",
        "        # Если ячейка содержит любое значение из списка, записываем всю строку в пустой датасет\n",
        "        the_first = pd.concat([the_first, pd.DataFrame([row])], ignore_index=True)\n",
        "# Результат - пустой датасет с записанными строками\n",
        "print(the_first)"
      ],
      "metadata": {
        "colab": {
          "base_uri": "https://localhost:8080/"
        },
        "collapsed": true,
        "id": "HFp11aCuNXSa",
        "outputId": "ec08cc63-e65a-438c-b740-c8f5d1084a52"
      },
      "execution_count": null,
      "outputs": [
        {
          "output_type": "stream",
          "name": "stdout",
          "text": [
            "     Unnamed: 0              File_name      Episode      Time    Speaker  \\\n",
            "0             0  escAF011-02.punc.xlsx  escAF011-02  00:00:39  speaker_0   \n",
            "1             1  escAF011_02.punc.xlsx  escAF011-02  00:00:49  speaker_1   \n",
            "2             2  escAF011_02.punc.xlsx  escAF011-02  00:01:10  speaker_1   \n",
            "3             3  escAF011_02.punc.xlsx  escAF011-02  00:01:15  speaker_1   \n",
            "4             4  escAF011_02.punc.xlsx  escAF011-02  00:01:47  speaker_0   \n",
            "...         ...                    ...          ...       ...        ...   \n",
            "3802      22716  escAF019_02.punc.xlsх  escAF019-02  00:21:25  speaker_2   \n",
            "3803      22717  escAF019_02.punc.xlsх  escAF019-02  00:21:26  speaker_1   \n",
            "3804      22718  escAF019_02.punc.xlsх  escAF019-02  00:21:29  speaker_2   \n",
            "3805      22719  escAF019_02.punc.xlsх  escAF019-02  00:21:31  speaker_1   \n",
            "3806      22720  escAF019_02.punc.xlsх  escAF019-02  00:21:14  speaker_2   \n",
            "\n",
            "                                                   Text  \\\n",
            "0     Аня, со скольки должны начинаться на школы раз...   \n",
            "1     Ее? Не знаю. Ну вот тебе тоже это будет полезн...   \n",
            "2                                                   Да.   \n",
            "3     Помимо того, что здесь, ну ты сюда вписываешь ...   \n",
            "4                                             Анталия?    \n",
            "...                                                 ...   \n",
            "3802                                      Ага. Отлично.   \n",
            "3803  И там будут коворкинги, на втором поднимешься,...   \n",
            "3804                                    Отлично, супер.   \n",
            "3805    Ну ладно, хорошего дня тебе. Работоспособности.   \n",
            "3806                                   Да, и тебе тоже.   \n",
            "\n",
            "                                      Preprocessed_text  \n",
            "0     аня со сколька должный начинаться на школа раз...  \n",
            "1     она не знать ну вот ты тоже это быть полезно я...  \n",
            "2                                                    да  \n",
            "3     помимо то что здесь ну ты сюда вписывать данны...  \n",
            "4                                               анталия  \n",
            "...                                                 ...  \n",
            "3802                                        ага отлично  \n",
            "3803  и там быть коворкинг на второй подниматься на ...  \n",
            "3804                                      отлично супер  \n",
            "3805         ну ладно хороший день ты работоспособность  \n",
            "3806                                       да и ты тоже  \n",
            "\n",
            "[3807 rows x 7 columns]\n"
          ]
        }
      ]
    },
    {
      "cell_type": "code",
      "source": [
        "for index, row in all_data.iterrows():\n",
        "    if row['Episode'] in episodes_the_second:\n",
        "        # Если ячейка содержит любое значение из списка, записываем всю строку в пустой датасет\n",
        "        the_second = pd.concat([the_second, pd.DataFrame([row])], ignore_index=True)\n",
        "# Результат - пустой датасет с записанными строками\n",
        "print(the_second)"
      ],
      "metadata": {
        "colab": {
          "base_uri": "https://localhost:8080/"
        },
        "id": "R0ZBBcMkPoe-",
        "outputId": "ed10a91e-3ee4-403f-df05-c3589de78ad4"
      },
      "execution_count": null,
      "outputs": [
        {
          "output_type": "stream",
          "name": "stdout",
          "text": [
            "     Unnamed: 0              File_name      Episode      Time    Speaker  \\\n",
            "0           168  escAF009_08.punc.xlsx  escAF009-08  00:00:00  speaker_0   \n",
            "1           169  escAF009_08.punc.xlsx  escAF009-08  00:00:09  speaker_0   \n",
            "2           170  escAF009_08.punc.xlsx  escAF009-08  00:00:19  speaker_1   \n",
            "3           171  escAF009_08.punc.xlsx  escAF009-08  00:00:21  speaker_0   \n",
            "4           172  escAF009_08.punc.xlsx  escAF009-08  00:00:40  speaker_1   \n",
            "...         ...                    ...          ...       ...        ...   \n",
            "8613      23337  escAF007_09.punc.xlsx  escAF007-09  00:24:37  speaker_1   \n",
            "8614      23338  escAF007_09.punc.xlsx  escAF007-09  00:25:05  speaker_0   \n",
            "8615      23339  escAF007_09.punc.xlsx  escAF007-09  00:25:07  speaker_0   \n",
            "8616      23340  escAF007_09.punc.xlsx  escAF007-09  00:25:11  speaker_0   \n",
            "8617      23341  escAF007_09.punc.xlsx  escAF007-09  00:25:17  speaker_0   \n",
            "\n",
            "                                                   Text  \\\n",
            "0                     Да Господи, Барни, только не ной.   \n",
            "1     Если допустить, что, прошлая запись, не сохран...   \n",
            "2                                               То что?   \n",
            "3     То нужно будет, лечь в три часа ночи, ха-ха. Л...   \n",
            "4                                      Скажи по правде.   \n",
            "...                                                 ...   \n",
            "8613  Что ты такое? Блин, тут одни эксески, я не мог...   \n",
            "8614                              Ты все будешь брать?    \n",
            "8615  Да я померить хоть хочу чтобы все сравнить тип...   \n",
            "8616                    Тебе надо что нибудь? @ Да нет.   \n",
            "8617  Ты иди, пока есть, потом не будет. Иди мерь. @...   \n",
            "\n",
            "                                      Preprocessed_text  \n",
            "0                        да господи барни только не ной  \n",
            "1      если допускать что прошлый запись не сохраняться  \n",
            "2                                                то что  \n",
            "3     то нужно быть ложиться в три час ночь ха ха ла...  \n",
            "4                                     сказать по правда  \n",
            "...                                                 ...  \n",
            "8613  что ты такой блин тут один эксеск я не мочь пр...  \n",
            "8614                                 ты весь быть брать  \n",
            "8615  да я померить хоть хотеть чтобы все сравнивать...  \n",
            "8616                          ты надо что нибудь да нет  \n",
            "8617  ты идти пока быть потом не быть идти меря да п...  \n",
            "\n",
            "[8618 rows x 7 columns]\n"
          ]
        }
      ]
    },
    {
      "cell_type": "code",
      "source": [
        "for index, row in all_data.iterrows():\n",
        "    if row['Episode'] in episodes_the_third:\n",
        "        # Если ячейка содержит любое значение из списка, записываем всю строку в пустой датасет\n",
        "        the_third = pd.concat([the_third, pd.DataFrame([row])], ignore_index=True)\n",
        "# Результат - пустой датасет с записанными строками\n",
        "print(the_third)"
      ],
      "metadata": {
        "colab": {
          "base_uri": "https://localhost:8080/"
        },
        "id": "mzgOzfiuUYOH",
        "outputId": "452ccc7e-b243-4816-f74e-68ef3e290f97"
      },
      "execution_count": null,
      "outputs": [
        {
          "output_type": "stream",
          "name": "stdout",
          "text": [
            "     Unnamed: 0              File_name      Episode      Time    Speaker  \\\n",
            "0           630  escAF002_10.punc.xlsх  escAF002-10  00:00:01  speaker_0   \n",
            "1           631  escAF002_10.punc.xlsх  escAF002-10  00:01:37  speaker_1   \n",
            "2           632  escAF002_10.punc.xlsх  escAF002-10  00:01:39  speaker_0   \n",
            "3           633  escAF002_10.punc.xlsх  escAF002-10  00:01:40  speaker_1   \n",
            "4           634  escAF002_10.punc.xlsх  escAF002-10  00:01:40  speaker_0   \n",
            "...         ...                    ...          ...       ...        ...   \n",
            "9262      22217  escAF012_03.punc.xlsх  escAF012-03  00:06:11  speaker_1   \n",
            "9263      22218  escAF012_05.punc.xlsх  escAF012-05  00:00:15  speaker_0   \n",
            "9264      22260  escAF012_07.punc.xlsх  escAF012-07  00:00:18  speaker_0   \n",
            "9265      22261  escAF012_10.punc.xlsх  escAF012-10  00:00:08  speaker_0   \n",
            "9266      22721  escAF023_22.punc.xlsх  escAF023-22  00:00:15  speaker_0   \n",
            "\n",
            "                                                   Text  \\\n",
            "0     Жень, привет. Я сегодня тебе запишу обзор, кот...   \n",
            "1                                          Да вроде да.   \n",
            "2                                     А фига ты быстро.   \n",
            "3                                                    Да   \n",
            "4                                Я в шоке. Позанимался?   \n",
            "...                                                 ...   \n",
            "9262  Если ты младше двадцати пяти лет, получай кэшб...   \n",
            "9263  Нелли, иди сюда. Куда ты пошла? Иди сюда, соба...   \n",
            "9264  Угу…Собак. Такс, значится, что мне надо сделат...   \n",
            "9265  Алеша. Привет, Сайка. Привет, моя хорошая киса...   \n",
            "9266  Да. Да. Что? Муся. Не надо туда. Не надо туда!...   \n",
            "\n",
            "                                      Preprocessed_text  \n",
            "0     женя привет я сегодня ты записывать обзор кото...  \n",
            "1                                           да вроде да  \n",
            "2                                      а фига ты быстро  \n",
            "3                                                    да  \n",
            "4                                  я в шок позаниматься  \n",
            "...                                                 ...  \n",
            "9262  если ты молодой двадцать пять год получать кэш...  \n",
            "9263  нелли идти сюда куда ты пойти идти сюда собака...  \n",
            "9264  угу собака такса значиться что я надо сделать ...  \n",
            "9265  алеша привет сайка привет мой хороший киса дав...  \n",
            "9266  да да что муся не надо туда не надо туда муся ...  \n",
            "\n",
            "[9267 rows x 7 columns]\n"
          ]
        }
      ]
    },
    {
      "cell_type": "code",
      "source": [
        "the_first.to_excel('/content/drive/MyDrive/swear_words_project/the_first_participants.xlsx')"
      ],
      "metadata": {
        "id": "H1m-s4GSOyIO"
      },
      "execution_count": null,
      "outputs": []
    },
    {
      "cell_type": "code",
      "source": [
        "the_second.to_excel('/content/drive/MyDrive/swear_words_project/the_second_participants.xlsx')"
      ],
      "metadata": {
        "id": "USxXoEkIQVBc"
      },
      "execution_count": null,
      "outputs": []
    },
    {
      "cell_type": "code",
      "source": [
        "the_third.to_excel('/content/drive/MyDrive/swear_words_project/the_third_participants.xlsx')"
      ],
      "metadata": {
        "id": "uCzRYqzGWAeh"
      },
      "execution_count": null,
      "outputs": []
    },
    {
      "cell_type": "markdown",
      "source": [
        "Ситуация 1"
      ],
      "metadata": {
        "id": "2hk8AfC7glWc"
      }
    },
    {
      "cell_type": "code",
      "source": [
        "all_tokens = 0\n",
        "for sent in list(the_first['Preprocessed_text']):\n",
        "    for i in str(sent).split():\n",
        "      all_tokens += 1\n",
        "print(all_tokens)"
      ],
      "metadata": {
        "colab": {
          "base_uri": "https://localhost:8080/"
        },
        "id": "fBvsoeOugoGZ",
        "outputId": "85cdce7c-a1bb-4931-8da2-c755b62044b3"
      },
      "execution_count": null,
      "outputs": [
        {
          "output_type": "stream",
          "name": "stdout",
          "text": [
            "55704\n"
          ]
        }
      ]
    },
    {
      "cell_type": "markdown",
      "source": [
        "Поиск обсценных слов"
      ],
      "metadata": {
        "id": "3bUZaDS8wNqq"
      }
    },
    {
      "cell_type": "code",
      "source": [
        "# список слов, которые мы ищем\n",
        "words_to_find = []\n",
        "with open('/content/drive/MyDrive/swear_words_project/new_dic.txt', encoding='utf8') as f:\n",
        "  for line in f:\n",
        "    words_to_find.append(line.strip())\n",
        "\n",
        "#создаем новый датафрейм для результатов\n",
        "result_df = pd.DataFrame(columns=['Preprocessed_text', 'Swear_word', 'File_name', 'Time', 'Speaker', 'Text'])\n",
        "\n",
        "# проходимся по строкам датафрейма\n",
        "for index, row in the_first.iterrows():\n",
        "    result_df.loc[len(result_df)] = [row['Preprocessed_text'], '', row['File_name'], row['Time'], row['Speaker'], row['Text']]\n",
        "    # ищем слова из списка в строке\n",
        "    for word in words_to_find:\n",
        "        if word in str(row['Preprocessed_text']).split():\n",
        "            result_df.loc[len(result_df)] = [row['Preprocessed_text'], word, row['File_name'], row['Time'], row['Speaker'], row['Text']]\n",
        "result_df.to_excel('/content/drive/MyDrive/swear_words_project/the_first_swear_words.xlsx')"
      ],
      "metadata": {
        "id": "8mnTc1QLhazt"
      },
      "execution_count": null,
      "outputs": []
    },
    {
      "cell_type": "markdown",
      "source": [
        "Ситуация 2"
      ],
      "metadata": {
        "id": "DPnIlqw2g2d6"
      }
    },
    {
      "cell_type": "code",
      "source": [
        "all_tokens = 0\n",
        "for sent in list(the_second['Preprocessed_text']):\n",
        "    for i in str(sent).split():\n",
        "      all_tokens += 1\n",
        "print(all_tokens)"
      ],
      "metadata": {
        "colab": {
          "base_uri": "https://localhost:8080/"
        },
        "id": "AEO_8PWYg3wI",
        "outputId": "f04ef571-ceb1-408d-e3a0-d3c063916b98"
      },
      "execution_count": null,
      "outputs": [
        {
          "output_type": "stream",
          "name": "stdout",
          "text": [
            "78930\n"
          ]
        }
      ]
    },
    {
      "cell_type": "code",
      "source": [
        "# список слов, которые мы ищем\n",
        "words_to_find = []\n",
        "with open('/content/drive/MyDrive/swear_words_project/new_dic.txt', encoding='utf8') as f:\n",
        "  for line in f:\n",
        "    words_to_find.append(line.strip())\n",
        "\n",
        "#создаем новый датафрейм для результатов\n",
        "result_df = pd.DataFrame(columns=['Preprocessed_text', 'Swear_word', 'File_name', 'Time', 'Speaker', 'Text'])\n",
        "\n",
        "# проходимся по строкам датафрейма\n",
        "for index, row in the_second.iterrows():\n",
        "    result_df.loc[len(result_df)] = [row['Preprocessed_text'], '', row['File_name'], row['Time'], row['Speaker'], row['Text']]\n",
        "    # ищем слова из списка в строке\n",
        "    for word in words_to_find:\n",
        "        if word in str(row['Preprocessed_text']).split():\n",
        "            result_df.loc[len(result_df)] = [row['Preprocessed_text'], word, row['File_name'], row['Time'], row['Speaker'], row['Text']]\n",
        "result_df.to_excel('/content/drive/MyDrive/swear_words_project/the_second_swear_words.xlsx')"
      ],
      "metadata": {
        "id": "Wcla-duciTZQ"
      },
      "execution_count": null,
      "outputs": []
    },
    {
      "cell_type": "markdown",
      "source": [
        "Ситуация 3"
      ],
      "metadata": {
        "id": "2qugoe41g-kC"
      }
    },
    {
      "cell_type": "code",
      "source": [
        "all_tokens = 0\n",
        "for sent in list(the_third['Preprocessed_text']):\n",
        "    for i in str(sent).split():\n",
        "      all_tokens += 1\n",
        "print(all_tokens)"
      ],
      "metadata": {
        "colab": {
          "base_uri": "https://localhost:8080/"
        },
        "id": "pAbAB-vvg7rg",
        "outputId": "36295915-34cf-4c17-9082-d5218e2a4274"
      },
      "execution_count": null,
      "outputs": [
        {
          "output_type": "stream",
          "name": "stdout",
          "text": [
            "140048\n"
          ]
        }
      ]
    },
    {
      "cell_type": "code",
      "source": [
        "# список слов, которые мы ищем\n",
        "words_to_find = []\n",
        "with open('/content/drive/MyDrive/swear_words_project/new_dic.txt', encoding='utf8') as f:\n",
        "  for line in f:\n",
        "    words_to_find.append(line.strip())\n",
        "\n",
        "#создаем новый датафрейм для результатов\n",
        "result_df = pd.DataFrame(columns=['Preprocessed_text', 'Swear_word', 'File_name', 'Time', 'Speaker', 'Text'])\n",
        "\n",
        "# проходимся по строкам датафрейма\n",
        "for index, row in the_third.iterrows():\n",
        "    result_df.loc[len(result_df)] = [row['Preprocessed_text'], '', row['File_name'], row['Time'], row['Speaker'], row['Text']]\n",
        "    # ищем слова из списка в строке\n",
        "    for word in words_to_find:\n",
        "        if word in str(row['Preprocessed_text']).split():\n",
        "            result_df.loc[len(result_df)] = [row['Preprocessed_text'], word, row['File_name'], row['Time'], row['Speaker'], row['Text']]\n",
        "result_df.to_excel('/content/drive/MyDrive/swear_words_project/the_third_swear_words.xlsx')"
      ],
      "metadata": {
        "id": "vPNqN_qyi3PS"
      },
      "execution_count": null,
      "outputs": []
    }
  ]
}